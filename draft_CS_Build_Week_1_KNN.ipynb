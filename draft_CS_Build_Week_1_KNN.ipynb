{
  "nbformat": 4,
  "nbformat_minor": 0,
  "metadata": {
    "colab": {
      "name": "draft_CS_Build_Week_1_KNN.ipynb",
      "provenance": [],
      "collapsed_sections": [
        "0jxQwLgBeO1_",
        "2WeQL4hBeYPR",
        "Uz1aW1DD3E-i",
        "aCRqeePTd4SE",
        "D5dgYAyVdvm5",
        "fO6BTM7Tz725"
      ],
      "authorship_tag": "ABX9TyMUHItO68qVRUhmltLQuP6w",
      "include_colab_link": true
    },
    "kernelspec": {
      "name": "python3",
      "display_name": "Python 3"
    }
  },
  "cells": [
    {
      "cell_type": "markdown",
      "metadata": {
        "id": "view-in-github",
        "colab_type": "text"
      },
      "source": [
        "<a href=\"https://colab.research.google.com/github/jacobpad/CS_Build_Week_1/blob/master/draft_CS_Build_Week_1_KNN.ipynb\" target=\"_parent\"><img src=\"https://colab.research.google.com/assets/colab-badge.svg\" alt=\"Open In Colab\"/></a>"
      ]
    },
    {
      "cell_type": "code",
      "metadata": {
        "id": "LUtOaRU2zNl-",
        "colab_type": "code",
        "colab": {}
      },
      "source": [
        "import pandas as pd\n",
        "import numpy as np"
      ],
      "execution_count": 1,
      "outputs": []
    },
    {
      "cell_type": "markdown",
      "metadata": {
        "id": "0jxQwLgBeO1_",
        "colab_type": "text"
      },
      "source": [
        "## Import & wrangle dataset"
      ]
    },
    {
      "cell_type": "code",
      "metadata": {
        "id": "QBptvcCOzlvB",
        "colab_type": "code",
        "colab": {
          "base_uri": "https://localhost:8080/",
          "height": 252
        },
        "outputId": "b769379f-0c89-4bde-fc38-d500551468fe"
      },
      "source": [
        "columns = [\n",
        "           'id',\n",
        "           'Clump Thickness',\n",
        "           'Uniformity of Cell Size',\n",
        "           'Uniformity of Cell Shape',\n",
        "           'Marginal Adhesion',\n",
        "           'Single Epithelial Cell Size',\n",
        "           'Bare Nuclei',\n",
        "           'Bland Chromatin',\n",
        "           'Normal Nucleoli',\n",
        "           'Mitoses',\n",
        "           'Class'\n",
        "           ]\n",
        "# url = 'https://archive.ics.uci.edu/ml/machine-learning-databases/breast-cancer-wisconsin/breast-cancer-wisconsin.data'\n",
        "url = 'https://raw.githubusercontent.com/jacobpad/random-datasets/master/breast-cancer-wisconsin.data'\n",
        "\n",
        "df = pd.read_csv(url, names=columns)\n",
        "df.replace('?', -99999, inplace=True)\n",
        "df.drop(['id'], axis=1, inplace=True)\n",
        "\n",
        "# Add \"_\"'s to the column names where spaces are:\n",
        "def replace_spaces_with_underscore_in_column_names_and_make_lowercasee(df):\n",
        "  \"\"\"\n",
        "  Accepts a dataframe.\n",
        "  Alters column names replacing spaces with '_' and everything lowercase.\n",
        "  \"\"\"\n",
        "  labels = list(df.columns)\n",
        "  for i in range(len(df.columns)):\n",
        "    labels[i] = labels[i].replace(' ', '_')\n",
        "    labels[i] = labels[i].lower()\n",
        "  df.columns = labels\n",
        "\n",
        "  return df\n",
        "\n",
        "df = replace_spaces_with_underscore_in_column_names_and_make_lowercasee(df)\n",
        "\n",
        "print(df)"
      ],
      "execution_count": 2,
      "outputs": [
        {
          "output_type": "stream",
          "text": [
            "     clump_thickness  uniformity_of_cell_size  ...  mitoses  class\n",
            "0                  5                        1  ...        1      2\n",
            "1                  5                        4  ...        1      2\n",
            "2                  3                        1  ...        1      2\n",
            "3                  6                        8  ...        1      2\n",
            "4                  4                        1  ...        1      2\n",
            "..               ...                      ...  ...      ...    ...\n",
            "694                3                        1  ...        1      2\n",
            "695                2                        1  ...        1      2\n",
            "696                5                       10  ...        2      4\n",
            "697                4                        8  ...        1      4\n",
            "698                4                        8  ...        1      4\n",
            "\n",
            "[699 rows x 10 columns]\n"
          ],
          "name": "stdout"
        }
      ]
    },
    {
      "cell_type": "markdown",
      "metadata": {
        "id": "2WeQL4hBeYPR",
        "colab_type": "text"
      },
      "source": [
        "## Split dataset into X_train, X_test, y_train, y_test"
      ]
    },
    {
      "cell_type": "code",
      "metadata": {
        "id": "dUXO7goM5ivQ",
        "colab_type": "code",
        "colab": {
          "base_uri": "https://localhost:8080/",
          "height": 101
        },
        "outputId": "804555ad-37bc-4c66-f651-3c62627d940e"
      },
      "source": [
        "# It's a huge list after this\n",
        "features = df[['clump_thickness', \n",
        "               'uniformity_of_cell_size',\n",
        "               'uniformity_of_cell_shape', \n",
        "               'marginal_adhesion',\n",
        "               'single_epithelial_cell_size',\n",
        "               'bare_nuclei', \n",
        "               'bland_chromatin',\n",
        "               'normal_nucleoli',\n",
        "               'mitoses']].astype(int).values.tolist()\n",
        "\n",
        "target = df['class'].astype(int).values.tolist()\n",
        "\n",
        "from sklearn.model_selection import train_test_split\n",
        "\n",
        "X_train, X_test, y_train, y_test = train_test_split(features, target, test_size=0.20, random_state=42)\n",
        "print(len(X_train))\n",
        "print(len(y_train))\n",
        "print(len(X_test))\n",
        "print(len(y_test))\n",
        "print(f'559 + 140 = {559 + 140}')"
      ],
      "execution_count": 3,
      "outputs": [
        {
          "output_type": "stream",
          "text": [
            "559\n",
            "559\n",
            "140\n",
            "140\n",
            "559 + 140 = 699\n"
          ],
          "name": "stdout"
        }
      ]
    },
    {
      "cell_type": "markdown",
      "metadata": {
        "id": "Uz1aW1DD3E-i",
        "colab_type": "text"
      },
      "source": [
        "## Standardize data"
      ]
    },
    {
      "cell_type": "code",
      "metadata": {
        "id": "-UoH7lUe3ItE",
        "colab_type": "code",
        "colab": {}
      },
      "source": [
        "from sklearn.preprocessing import StandardScaler\n",
        "\n",
        "# Standardize the X stuff\n",
        "scaler = StandardScaler()\n",
        "X_train = scaler.fit_transform(X_train)\n",
        "X_test = scaler.transform(X_test)"
      ],
      "execution_count": 4,
      "outputs": []
    },
    {
      "cell_type": "markdown",
      "metadata": {
        "id": "aCRqeePTd4SE",
        "colab_type": "text"
      },
      "source": [
        "## Sklearn build"
      ]
    },
    {
      "cell_type": "code",
      "metadata": {
        "id": "6q2aUDC4EhuW",
        "colab_type": "code",
        "colab": {
          "base_uri": "https://localhost:8080/",
          "height": 34
        },
        "outputId": "28ad4c7b-956e-4878-8552-9fa0be550f2f"
      },
      "source": [
        "from sklearn.metrics import accuracy_score\n",
        "from sklearn.neighbors import KNeighborsClassifier\n",
        "from sklearn.metrics import confusion_matrix\n",
        "\n",
        "model = KNeighborsClassifier(n_neighbors=5)\n",
        "model.fit(X_train, y_train)\n",
        "s_pred = model.predict(X_test)\n",
        "acc_score = accuracy_score(y_test, s_pred)\n",
        "print(f'The sklearn accuracy: {acc_score}')\n",
        "\n",
        "# predict = model.predict(X_train)\n",
        "# print('\\nConfusion Matrix:')\n",
        "# print(confusion_matrix(y_train, predict),'\\n')"
      ],
      "execution_count": 5,
      "outputs": [
        {
          "output_type": "stream",
          "text": [
            "The sklearn accuracy: 0.9714285714285714\n"
          ],
          "name": "stdout"
        }
      ]
    },
    {
      "cell_type": "markdown",
      "metadata": {
        "id": "LoCcO9BJ_e2D",
        "colab_type": "text"
      },
      "source": [
        "---"
      ]
    },
    {
      "cell_type": "markdown",
      "metadata": {
        "id": "XXRMvolwdIEX",
        "colab_type": "text"
      },
      "source": [
        "## My Version"
      ]
    },
    {
      "cell_type": "markdown",
      "metadata": {
        "id": "D5dgYAyVdvm5",
        "colab_type": "text"
      },
      "source": [
        "### Build Class"
      ]
    },
    {
      "cell_type": "code",
      "metadata": {
        "id": "uDHcAZK3epaj",
        "colab_type": "code",
        "colab": {}
      },
      "source": [
        "import pandas as pd\n",
        "import numpy as np\n",
        "\n",
        "class KNN:\n",
        "    X_train = None\n",
        "    y_train = None\n",
        "    def __init__(self, K):\n",
        "        self.K = K\n",
        "\n",
        "    def fit(self,X_train,y_train):\n",
        "        self.X_train = X_train\n",
        "        self.y_train = y_train\n",
        "\n",
        "    def euclidean_distance(self, row1, row2):\n",
        "        return np.linalg.norm(row1-row2)\n",
        "\n",
        "    def predict(self, pred):\n",
        "\n",
        "        predictions = []\n",
        "\n",
        "        # iterates through each test row\n",
        "        for p in pred:\n",
        "\n",
        "            distances = []\n",
        "\n",
        "            # every row in the training set\n",
        "            for i, v in enumerate(self.X_train):\n",
        "\n",
        "                # calc the euclidean distance between training row and test row\n",
        "                distance = self.euclidean_distance(v, p)\n",
        "\n",
        "                # append the distance to the distances list\n",
        "                distances.append([distance, i])\n",
        "\n",
        "            # sort the distances from least to greatest\n",
        "            sorted_distances = sorted(distances)\n",
        "\n",
        "            # take only smallest k distances\n",
        "            k_distances = sorted_distances[:self.K]\n",
        "\n",
        "            # predicted classification\n",
        "            predict = [self.y_train[i[1]] for i in k_distances]\n",
        "\n",
        "            # most frequent predicted element in predict\n",
        "            result = max(set(predict), key = predict.count)\n",
        "\n",
        "            # Append result to the predictions list\n",
        "            predictions.append(result)\n",
        "\n",
        "        # return the prediction\n",
        "        return predictions"
      ],
      "execution_count": 6,
      "outputs": []
    },
    {
      "cell_type": "markdown",
      "metadata": {
        "id": "fO6BTM7Tz725",
        "colab_type": "text"
      },
      "source": [
        "## Impliment Class and run accuracy score"
      ]
    },
    {
      "cell_type": "code",
      "metadata": {
        "id": "Y33SWopwfX19",
        "colab_type": "code",
        "colab": {
          "base_uri": "https://localhost:8080/",
          "height": 34
        },
        "outputId": "9ca612c9-6759-4f8d-b00b-a8e04bd6a9fd"
      },
      "source": [
        "model = KNN(K=5)\n",
        "model.fit(X_train, y_train)\n",
        "y_pred = model.predict(X_test)\n",
        "my_acc_score = accuracy_score(y_test, y_pred)\n",
        "\n",
        "print(f'My Class Accuracy: {my_acc_score}')"
      ],
      "execution_count": 7,
      "outputs": [
        {
          "output_type": "stream",
          "text": [
            "My Class Accuracy: 0.9714285714285714\n"
          ],
          "name": "stdout"
        }
      ]
    },
    {
      "cell_type": "markdown",
      "metadata": {
        "id": "Iou0UTvINur6",
        "colab_type": "text"
      },
      "source": [
        "# Blog Draft"
      ]
    },
    {
      "cell_type": "markdown",
      "metadata": {
        "id": "BiPwgMu8N2TA",
        "colab_type": "text"
      },
      "source": [
        "# KNN - You’ve heard about it, but what is it?\n",
        "\n",
        "K-NearestNeighbors, often called KNN for short, is a machine learning model used to generate predictions. And those predictions can be scored, outputing a percentage of how well the model did.\n",
        "\n",
        "I’ll be using the [Breast Cancer Wisconsin (Original) Data Set](https://archive.ics.uci.edu/ml/datasets/Breast+Cancer+Wisconsin+%28Original%29) from UCI, but first lets go over some basics.\n",
        "\n",
        "## Starting Small  \n",
        "\n",
        "Here is a small, fake dataset with 14 dots. Are you able to make two groups out of them? \n",
        "\n",
        "```python\n",
        "import matplotlib.pyplot as plt\n",
        "from matplotlib import style\n",
        "style.use('fivethirtyeight')\n",
        "\n",
        "dataset = {'a':[[1,2],[3,1],[0,0],[4.25,1.5],[1,3],[2,3],[3,5]], \n",
        "           'b':[[6,5],[7,7],[7,4],[7.5,6.5],[7,5.5],[8,8],[8,6]]}\n",
        "\n",
        "[[plt.scatter(ii[0], ii[1], s=100, color='navy') \n",
        "for ii in dataset[i]] for i in dataset];\n",
        "```\n",
        "\n",
        "![Original_Plot](https://raw.githubusercontent.com/jacobpad/jacobpad.github.io/master/img/CS_BW1/original%20plots.png)\n",
        "\n",
        "I bet you could, but here's how I would do it.\n",
        "\n",
        "![original seperated](https://raw.githubusercontent.com/jacobpad/jacobpad.github.io/master/img/CS_BW1/original%20seperated.png)\n",
        "\n",
        "Now, let's introduce a new dot, the blue one. We'll place it at `[5,7]`\n",
        "\n",
        "```python\n",
        "import matplotlib.pyplot as plt\n",
        "from matplotlib import style\n",
        "style.use('fivethirtyeight')\n",
        "\n",
        "# Data it bases it's predictions on\n",
        "dataset = {'k':[[1,2],[3,1],[0,0],[4.25,1.5],[1,3],[2,3],[3,5]], 'r':[[6,5],[7,7],[7,4],[7.5,6.5],[7,5.5],[8,8],[8,6]]}\n",
        "\n",
        "# Introducing something new\n",
        "new_features = [5,7]\n",
        "\n",
        "# One line it\n",
        "[[plt.scatter(ii[0], ii[1], s=100, color=i) for ii in dataset[i]] for i in dataset];\n",
        "\n",
        "# Add the new features\n",
        "plt.scatter(new_features[0], new_features[1], s=100); # Blue\n",
        "```\n",
        "\n",
        "![blue_dot](https://raw.githubusercontent.com/jacobpad/jacobpad.github.io/master/img/CS_BW1/blue%20dot.png)\n",
        "\n",
        "### Now for the big question...\n",
        "\n",
        "Which group does the new blue dot belong in? \n",
        "\n",
        "If you say the bottom left, let me know why you say that. As for me, I would classify it to the upper right group, because it's closer to more of the red dots than black dots.\n",
        "\n",
        "If you agree with me, congratulations, we've basically just done K-Nearest Neighbors.\n",
        "\n",
        "But wait, what's the K?\n",
        "\n",
        "K is whatever you want it to be, but because it often plays the role of a tie breaker, it should always be an odd number. Typically, K defaults at the number 5. But that still doesn't explain what it is. K is the number of closest dots that vote on what the new dot should be. They try to recruit it to their side. \n",
        "\n",
        "![black_red](https://raw.githubusercontent.com/jacobpad/jacobpad.github.io/master/img/CS_BW1/black_red.png)\n",
        "\n",
        "## Let’s Build This Thing With The Cancer Dataset Mentioned Above\n",
        "\n",
        "The code below will import the data into python for us and we'll be able to move forward from there.\n",
        "\n",
        "```python\n",
        "import pandas as pd\n",
        "\n",
        "# The column names of the dataset\n",
        "columns = [\n",
        "           'id',\n",
        "           'Clump Thickness',\n",
        "           'Uniformity of Cell Size',\n",
        "           'Uniformity of Cell Shape',\n",
        "           'Marginal Adhesion',\n",
        "           'Single Epithelial Cell Size',\n",
        "           'Bare Nuclei',\n",
        "           'Bland Chromatin',\n",
        "           'Normal Nucleoli',\n",
        "           'Mitoses',\n",
        "           'Class'\n",
        "           ]\n",
        "\n",
        "url = 'https://archive.ics.uci.edu/ml/machine-learning-databases/breast-cancer-wisconsin/breast-cancer-wisconsin.data'\n",
        "\n",
        "df = pd.read_csv(url, names=columns)\n",
        "df.replace('?', -99999, inplace=True)\n",
        "df.drop(['id'], axis=1, inplace=True)\n",
        "\n",
        "# A function with a big long name\n",
        "def replace_spaces_with_underscore_in_column_names_and_make_lowercasee(df):\n",
        "  \"\"\"\n",
        "  Accepts a dataframe.\n",
        "  Alters column names- replacing spaces with '_' and column names lowercase.\n",
        "  Returns a dataframe.\n",
        "  \"\"\"\n",
        "  labels = list(df.columns)\n",
        "  for i in range(len(df.columns)):\n",
        "    labels[i] = labels[i].replace(' ', '_')\n",
        "    labels[i] = labels[i].lower()\n",
        "  df.columns = labels\n",
        "\n",
        "  return df\n",
        "\n",
        "# Invokes the function\n",
        "df = replace_spaces_with_underscore_in_column_names_and_make_lowercasee(df)\n",
        "\n",
        "# Shows a dataframe\n",
        "print(df)\n",
        "```\n",
        "\n",
        "### Splitting The Dataframe\n",
        "\n",
        "Now we need to split dataset into what we'll call \"test/train/split\" which will give us `X_train, X_test, y_train, y_test`. \n",
        "\n",
        "```python\n",
        "# What the model uses to study on\n",
        "features = df[['clump_thickness', \n",
        "               'uniformity_of_cell_size',\n",
        "               'uniformity_of_cell_shape', \n",
        "               'marginal_adhesion',\n",
        "               'single_epithelial_cell_size',\n",
        "               'bare_nuclei', \n",
        "               'bland_chromatin',\n",
        "               'normal_nucleoli',\n",
        "               'mitoses']].astype(int).values.tolist()\n",
        "\n",
        "# What the model tries to guess\n",
        "target = df['class'].astype(int).values.tolist()\n",
        "\n",
        "# Another import\n",
        "from sklearn.model_selection import train_test_split\n",
        "\n",
        "# Preform the split of the data\n",
        "X_train, X_test, y_train, y_test = train_test_split(features, target, test_size=0.20, random_state=42)\n",
        "```\n",
        "\n",
        "Notice the last line, the `test_size` parameter is `.2`. That means we're setting aside 20% of the data for testing our results (think whether the blue dot should be red or balck). That's where the `X_test` and `y_test` come into play. Conversly, 80% of the data is to be used for training. Hence the name \"train/test/split\". (I know, it's so original)\n",
        "\n",
        "The `features` are all the columns except the `target`. The target is what we want to be able to predict.\n",
        "\n",
        "### Standardizing\n",
        "\n",
        "What does standardizing mean? In short, it's bringing all the numbers closer. \"Standardization makes all variables to contribute equally to the similarity measures.\" We'll only do this to the X_stuff though.\n",
        "\n",
        "```python\n",
        "# Another import\n",
        "from sklearn.preprocessing import StandardScaler\n",
        "\n",
        "# Standardize the X stuff\n",
        "scaler = StandardScaler()\n",
        "X_train = scaler.fit_transform(X_train)\n",
        "X_test = scaler.transform(X_test)\n",
        "```\n",
        "### Wait! Lets Cheat Real Quick\n",
        "\n",
        "This code will give us a glimps of what we should expect when we've finished building our own class.\n",
        "\n",
        "Lets run it, and then walk through it real quick.\n",
        "\n",
        "```python\n",
        "# Even more imports\n",
        "from sklearn.metrics import accuracy_score\n",
        "from sklearn.neighbors import KNeighborsClassifier\n",
        "\n",
        "model = KNeighborsClassifier(n_neighbors=5)\n",
        "model.fit(X_train, y_train)\n",
        "s_pred = model.predict(X_test)\n",
        "acc_score = accuracy_score(y_test, s_pred)\n",
        "print(f'The sklearn accuracy: {acc_score}')\n",
        "```\n",
        "\n",
        "output:\n",
        "```python\n",
        "The sklearn accuracy: 0.9714285714285714\n",
        "```\n",
        "\n",
        "Okay, so what just happened? First of all, we had some imports to bring in. Then we instantiated our model, telling it to use the nearest 5 points by saying `n_neighbors=5`.\n",
        "\n",
        "Then we had to fit it, which basically takes all the training data and crunches it down so we can have it ready for when it's needed next.\n",
        "\n",
        "After fitting the model (the learning phase), we'll need to get what the computer thinks the predictions ought to be - we'll call it `s_pred` which will stand for sklearns prediction.\n",
        "\n",
        "Next we come to generating an accuracy score (followed by printing it, which we see above). How well did SKLEARN do? Comparing the actual predictions to the generated ones, sklearn was 97.14% correct at \"assigning the blue dots to the correct category\" or in this case, 97.14% correctly identified the 20% we held out. Predicting which people had cancer, and which didn't. \n",
        "\n",
        "## Building Our Own Model To Try And Do The Same Thing\n",
        "\n",
        "```python\n",
        "import numpy as np\n",
        "\n",
        "class KNN:\n",
        "    X_train = None\n",
        "    y_train = None\n",
        "    def __init__(self, K):\n",
        "        self.K = K\n",
        "\n",
        "    def fit(self,X_train,y_train):\n",
        "        self.X_train = X_train\n",
        "        self.y_train = y_train\n",
        "\n",
        "    def euclidean_distance(self, row1, row2):\n",
        "        return np.linalg.norm(row1-row2)\n",
        "\n",
        "    def predict(self, pred):\n",
        "        \n",
        "        # Empty list\n",
        "        predictions = []\n",
        "\n",
        "        # Go through each row\n",
        "        for p in pred:\n",
        "            \n",
        "            # Empty list\n",
        "            distances = []\n",
        "\n",
        "            # Every row in the training set\n",
        "            for i, v in enumerate(self.X_train):\n",
        "\n",
        "                # Get euclidean distance\n",
        "                distance = self.euclidean_distance(v, p)\n",
        "\n",
        "                # Append distance to list\n",
        "                distances.append([distance, i])\n",
        "\n",
        "            # Sort smallest to biggest\n",
        "            sorted_distances = sorted(distances)\n",
        "\n",
        "            # Slice getting K distances\n",
        "            k_distances = sorted_distances[:self.K]\n",
        "\n",
        "            # Predicted what it will be\n",
        "            predict = [self.y_train[i[1]] for i in k_distances]\n",
        "\n",
        "            # Tally the votes\n",
        "            result = max(set(predict), key = predict.count)\n",
        "\n",
        "            # Append result to the predictions list\n",
        "            predictions.append(result)\n",
        "\n",
        "        # return the prediction\n",
        "        return predictions\n",
        "```\n",
        "\n",
        "That's a lot of code, lets look closer at it.\n",
        "\n",
        "It's a class, which starts off by setting `X_train` and `y_train` to `None`. They'll come into play later.\n",
        "\n",
        "Every class needs an `__init__` function, kinda like the class clown, somebody's gotta fill the roll. The `__init__` basically accepts `K` from the user. \n",
        "\n",
        "Then we've got the `fit` method, this is where the chrunching of the `X_train` and `y_train` come into play.\n",
        "\n",
        "It's followed by the `euclidean_distance` method, which does some fancy linear algebra to figure out how far away the blue dot is from every other dot... (Remember the blue dot above?)\n",
        "\n",
        "Next, and lastly comes the predict function, which was the hardest for me to figure out. But if you've followed along with everything I've said up to this point, the predict method shouldn't be that scary. \n",
        "\n",
        "Lets go backwards explaining this, starting at the bottom.\n",
        "\n",
        "It returns predictions in thew form of a list, which comes from the different points (think dots) voting on who should join them. It's limited to only the closest `K` (5 in this case) which come from measuring the distance from every point in the training data. Phew! That's a lot!\n",
        "\n",
        "### Let's Test The Class\n",
        "\n",
        "Because we've seen this kind of code above, I won't explain every line.\n",
        "\n",
        "```python\n",
        "model = KNN(K=5)\n",
        "model.fit(X_train, y_train)\n",
        "y_pred = model.predict(X_test)\n",
        "my_acc_score = accuracy_score(y_test, y_pred)\n",
        "\n",
        "print(f'My Class Accuracy: {my_acc_score}')\n",
        "```\n",
        "\n",
        "First we instantiate our model using the class we just made, then, just like whe we ran it with sklearn's model, we fit, predict and get an accuracy score. \n",
        "\n",
        "## Conclusion\n",
        "\n",
        "Let's run it and see what our score is, we'll use the same training data and the same testing data as above whe we ran it for the sklearn model. \n",
        "\n",
        "And we get...\n",
        "\n",
        "output\n",
        "```python\n",
        "My Class Accuracy: 0.9714285714285714\n",
        "```\n",
        "\n",
        "The same exact score as the sklearn model! How amazing is that. \n",
        "\n",
        "Hopefully you understand K-Nearest Neighbors a bit better now. I know I sure do!\n",
        "\n",
        "---\n",
        "\n",
        "My code can be found [here](https://github.com/jacobpad/CS_Build_Week_1/blob/master/CS_Build_Week_1_KNN.ipynb)  \n",
        "KNN [Documentation](https://scikit-learn.org/stable/modules/generated/sklearn.neighbors.KNeighborsClassifier.html#sklearn.neighbors.KNeighborsClassifier)  \n",
        "The sklearn class can be found [here](https://github.com/scikit-learn/scikit-learn/blob/fd237278e/sklearn/neighbors/_classification.py#L26)  \n",
        "UCI [Breast Cancer Wisconsin (Original) Data Set](https://archive.ics.uci.edu/ml/datasets/Breast+Cancer+Wisconsin+%28Original%29)  "
      ]
    },
    {
      "cell_type": "markdown",
      "metadata": {
        "id": "-iMzTsLK5h8z",
        "colab_type": "text"
      },
      "source": [
        "## Start small"
      ]
    },
    {
      "cell_type": "code",
      "metadata": {
        "id": "W8FFy2I1OhQL",
        "colab_type": "code",
        "colab": {
          "base_uri": "https://localhost:8080/",
          "height": 265
        },
        "outputId": "7807758e-add7-4366-e797-b3b8bb02823e"
      },
      "source": [
        "import matplotlib.pyplot as plt\n",
        "\n",
        "dataset = {'a':[[1,2],[3,1],[0,0],[4.25,1.5],[1,3],[2,3],[3,5]], \n",
        "           'b':[[6,5],[7,7],[7,4],[7.5,6.5],[7,5.5],[8,8],[8,6]]}\n",
        "\n",
        "[[plt.scatter(ii[0], ii[1], s=100, color='navy') \n",
        "for ii in dataset[i]] for i in dataset];"
      ],
      "execution_count": 8,
      "outputs": [
        {
          "output_type": "display_data",
          "data": {
            "image/png": "[encoded data removed]",
            "text/plain": [
              "<Figure size 432x288 with 1 Axes>"
            ]
          },
          "metadata": {
            "tags": [],
            "needs_background": "light"
          }
        }
      ]
    },
    {
      "cell_type": "code",
      "metadata": {
        "id": "buLfNhPXPJoO",
        "colab_type": "code",
        "colab": {
          "base_uri": "https://localhost:8080/",
          "height": 282
        },
        "outputId": "d8885ab6-6d7f-4177-8b91-94965838c0ca"
      },
      "source": [
        "import matplotlib.pyplot as plt\n",
        "from matplotlib import style\n",
        "style.use('fivethirtyeight')\n",
        "\n",
        "# Data it bases it's predictions on\n",
        "dataset = {'k':[[1,2],[3,1],[0,0],[4.25,1.5],[1,3],[2,3],[3,5]], 'r':[[6,5],[7,7],[7,4],[7.5,6.5],[7,5.5],[8,8],[8,6]]}\n",
        "\n",
        "# Introducing something new\n",
        "new_features = [5,7]\n",
        "\n",
        "# One line it\n",
        "[[plt.scatter(ii[0], ii[1], s=100, color=i) for ii in dataset[i]] for i in dataset];\n",
        "\n",
        "# Add the new features\n",
        "plt.scatter(new_features[0], new_features[1], s=100); # Blue"
      ],
      "execution_count": 9,
      "outputs": [
        {
          "output_type": "display_data",
          "data": {
            "image/png": "[encoded data removed]",
            "text/plain": [
              "<Figure size 432x288 with 1 Axes>"
            ]
          },
          "metadata": {
            "tags": []
          }
        }
      ]
    },
    {
      "cell_type": "code",
      "metadata": {
        "id": "nZ_GFWUAbkIv",
        "colab_type": "code",
        "colab": {
          "base_uri": "https://localhost:8080/",
          "height": 282
        },
        "outputId": "c10a06d6-245e-4261-9af3-57191172f5b3"
      },
      "source": [
        "# One line it\n",
        "[[plt.scatter(ii[0], ii[1], s=100, color=i) for ii in dataset[i]] for i in dataset];\n",
        "\n",
        "# Add the new features\n",
        "plt.scatter(new_features[0], new_features[1], color='red', s=100); # Blue"
      ],
      "execution_count": 10,
      "outputs": [
        {
          "output_type": "display_data",
          "data": {
            "image/png": "[encoded data removed]",
            "text/plain": [
              "<Figure size 432x288 with 1 Axes>"
            ]
          },
          "metadata": {
            "tags": []
          }
        }
      ]
    }
  ]
}