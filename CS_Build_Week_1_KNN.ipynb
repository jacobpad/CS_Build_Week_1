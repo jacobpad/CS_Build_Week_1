{
  "nbformat": 4,
  "nbformat_minor": 0,
  "metadata": {
    "colab": {
      "name": "CS_Build_Week_1_KNN.ipynb",
      "provenance": [],
      "toc_visible": true,
      "authorship_tag": "ABX9TyN8GIwVgovTVatDyiZnhFdd",
      "include_colab_link": true
    },
    "kernelspec": {
      "name": "python3",
      "display_name": "Python 3"
    }
  },
  "cells": [
    {
      "cell_type": "markdown",
      "metadata": {
        "id": "view-in-github",
        "colab_type": "text"
      },
      "source": [
        "<a href=\"https://colab.research.google.com/github/jacobpad/CS_Build_Week_1/blob/master/CS_Build_Week_1_KNN.ipynb\" target=\"_parent\"><img src=\"https://colab.research.google.com/assets/colab-badge.svg\" alt=\"Open In Colab\"/></a>"
      ]
    },
    {
      "cell_type": "markdown",
      "metadata": {
        "id": "fa6AWUTTmTDT",
        "colab_type": "text"
      },
      "source": [
        "# KNN"
      ]
    },
    {
      "cell_type": "code",
      "metadata": {
        "id": "izP1Ve2O--Bg",
        "colab_type": "code",
        "colab": {
          "base_uri": "https://localhost:8080/",
          "height": 282
        },
        "outputId": "cb630bb5-58cd-4ea3-f98f-4d7cb53a63d0"
      },
      "source": [
        "import matplotlib.pyplot as plt\n",
        "from matplotlib import style\n",
        "style.use('fivethirtyeight')\n",
        " \n",
        "dataset = {'a':[[1,2],[3,1],[0,0],[4.25,1.5],[1,3],[2,3],[3,5]], \n",
        "           'b':[[6,5],[7,7],[7,4],[7.5,6.5],[7,5.5],[8,8],[8,6]]}\n",
        " \n",
        "[[plt.scatter(ii[0], ii[1], s=100, color='navy') \n",
        "for ii in dataset[i]] for i in dataset];"
      ],
      "execution_count": 1,
      "outputs": [
        {
          "output_type": "display_data",
          "data": {
            "image/png": "[encoded data removed]",
            "text/plain": [
              "<Figure size 432x288 with 1 Axes>"
            ]
          },
          "metadata": {
            "tags": []
          }
        }
      ]
    },
    {
      "cell_type": "code",
      "metadata": {
        "id": "gUvXRXli-99X",
        "colab_type": "code",
        "colab": {
          "base_uri": "https://localhost:8080/",
          "height": 282
        },
        "outputId": "d0446966-1892-4719-a117-69d9e02f4c11"
      },
      "source": [
        "import matplotlib.pyplot as plt\n",
        "from matplotlib import style\n",
        "style.use('fivethirtyeight')\n",
        " \n",
        "# Data it bases it's predictions on\n",
        "dataset = {'k':[[1,2],[3,1],[0,0],[4.25,1.5],[1,3],[2,3],[3,5]], 'r':[[6,5],[7,7],[7,4],[7.5,6.5],[7,5.5],[8,8],[8,6]]}\n",
        " \n",
        "# Introducing something new\n",
        "new_features = [5,7]\n",
        " \n",
        "# One line it\n",
        "[[plt.scatter(ii[0], ii[1], s=100, color=i) for ii in dataset[i]] for i in dataset];\n",
        " \n",
        "# Add the new features\n",
        "plt.scatter(new_features[0], new_features[1], s=100); # Blue"
      ],
      "execution_count": 2,
      "outputs": [
        {
          "output_type": "display_data",
          "data": {
            "image/png": "[encoded data removed]",
            "text/plain": [
              "<Figure size 432x288 with 1 Axes>"
            ]
          },
          "metadata": {
            "tags": []
          }
        }
      ]
    },
    {
      "cell_type": "code",
      "metadata": {
        "id": "w8UotV2o_8MX",
        "colab_type": "code",
        "colab": {
          "base_uri": "https://localhost:8080/",
          "height": 282
        },
        "outputId": "5582049b-e4f6-4587-bb6d-0f1d27297b93"
      },
      "source": [
        "# One line it\n",
        "[[plt.scatter(ii[0], ii[1], s=100, color=i) for ii in dataset[i]] for i in dataset];\n",
        "\n",
        "# Add the new features\n",
        "plt.scatter(new_features[0], new_features[1], color='red', s=100); # Blue"
      ],
      "execution_count": 9,
      "outputs": [
        {
          "output_type": "display_data",
          "data": {
            "image/png": "[encoded data removed]",
            "text/plain": [
              "<Figure size 432x288 with 1 Axes>"
            ]
          },
          "metadata": {
            "tags": []
          }
        }
      ]
    },
    {
      "cell_type": "code",
      "metadata": {
        "id": "i3qjXaT08VlE",
        "colab_type": "code",
        "colab": {
          "base_uri": "https://localhost:8080/",
          "height": 252
        },
        "outputId": "faecd1c8-9227-4907-d855-e8c8f7436f1b"
      },
      "source": [
        "import pandas as pd\n",
        " \n",
        "# The column names of the dataset\n",
        "columns = [\n",
        "           'id',\n",
        "           'Clump Thickness',\n",
        "           'Uniformity of Cell Size',\n",
        "           'Uniformity of Cell Shape',\n",
        "           'Marginal Adhesion',\n",
        "           'Single Epithelial Cell Size',\n",
        "           'Bare Nuclei',\n",
        "           'Bland Chromatin',\n",
        "           'Normal Nucleoli',\n",
        "           'Mitoses',\n",
        "           'Class'\n",
        "           ]\n",
        " \n",
        "url = 'https://archive.ics.uci.edu/ml/machine-learning-databases/breast-cancer-wisconsin/breast-cancer-wisconsin.data'\n",
        " \n",
        "df = pd.read_csv(url, names=columns)\n",
        "df.replace('?', -99999, inplace=True)\n",
        "df.drop(['id'], axis=1, inplace=True)\n",
        " \n",
        "# A function with a big long name\n",
        "def replace_spaces_with_underscore_in_column_names_and_make_lowercasee(df):\n",
        "  \"\"\"\n",
        "  Accepts a dataframe.\n",
        "  Alters column names- replacing spaces with '_' and column names lowercase.\n",
        "  Returns a dataframe.\n",
        "  \"\"\"\n",
        "  labels = list(df.columns)\n",
        "  for i in range(len(df.columns)):\n",
        "    labels[i] = labels[i].replace(' ', '_')\n",
        "    labels[i] = labels[i].lower()\n",
        "  df.columns = labels\n",
        " \n",
        "  return df\n",
        " \n",
        "# Invokes the function\n",
        "df = replace_spaces_with_underscore_in_column_names_and_make_lowercasee(df)\n",
        " \n",
        "# Shows a dataframe\n",
        "print(df)"
      ],
      "execution_count": 3,
      "outputs": [
        {
          "output_type": "stream",
          "text": [
            "     clump_thickness  uniformity_of_cell_size  ...  mitoses  class\n",
            "0                  5                        1  ...        1      2\n",
            "1                  5                        4  ...        1      2\n",
            "2                  3                        1  ...        1      2\n",
            "3                  6                        8  ...        1      2\n",
            "4                  4                        1  ...        1      2\n",
            "..               ...                      ...  ...      ...    ...\n",
            "694                3                        1  ...        1      2\n",
            "695                2                        1  ...        1      2\n",
            "696                5                       10  ...        2      4\n",
            "697                4                        8  ...        1      4\n",
            "698                4                        8  ...        1      4\n",
            "\n",
            "[699 rows x 10 columns]\n"
          ],
          "name": "stdout"
        }
      ]
    },
    {
      "cell_type": "code",
      "metadata": {
        "id": "r0PvFTAf_S_-",
        "colab_type": "code",
        "colab": {}
      },
      "source": [
        "# What the model uses to study on\n",
        "features = df[['clump_thickness', \n",
        "               'uniformity_of_cell_size',\n",
        "               'uniformity_of_cell_shape', \n",
        "               'marginal_adhesion',\n",
        "               'single_epithelial_cell_size',\n",
        "               'bare_nuclei', \n",
        "               'bland_chromatin',\n",
        "               'normal_nucleoli',\n",
        "               'mitoses']].astype(int).values.tolist()\n",
        " \n",
        "# What the model tries to guess\n",
        "target = df['class'].astype(int).values.tolist()\n",
        " \n",
        "# Another import\n",
        "from sklearn.model_selection import train_test_split\n",
        " \n",
        "# Preform the split of the data\n",
        "X_train, X_test, y_train, y_test = train_test_split(features, target, test_size=0.20, random_state=42)"
      ],
      "execution_count": 4,
      "outputs": []
    },
    {
      "cell_type": "code",
      "metadata": {
        "id": "y_DkQQBU_YdF",
        "colab_type": "code",
        "colab": {}
      },
      "source": [
        "# Another import\n",
        "from sklearn.preprocessing import StandardScaler\n",
        " \n",
        "# Standardize the X stuff\n",
        "scaler = StandardScaler()\n",
        "X_train = scaler.fit_transform(X_train)\n",
        "X_test = scaler.transform(X_test)"
      ],
      "execution_count": 5,
      "outputs": []
    },
    {
      "cell_type": "code",
      "metadata": {
        "id": "qllWkCz3_dw3",
        "colab_type": "code",
        "colab": {
          "base_uri": "https://localhost:8080/",
          "height": 34
        },
        "outputId": "8e0c3bb5-b1a5-4b96-8eef-19e7447aaba0"
      },
      "source": [
        "# Even more imports\n",
        "from sklearn.metrics import accuracy_score\n",
        "from sklearn.neighbors import KNeighborsClassifier\n",
        " \n",
        "model = KNeighborsClassifier(n_neighbors=5)\n",
        "model.fit(X_train, y_train)\n",
        "s_pred = model.predict(X_test)\n",
        "acc_score = accuracy_score(y_test, s_pred)\n",
        "print(f'The sklearn accuracy: {acc_score}')"
      ],
      "execution_count": 6,
      "outputs": [
        {
          "output_type": "stream",
          "text": [
            "The sklearn accuracy: 0.9714285714285714\n"
          ],
          "name": "stdout"
        }
      ]
    },
    {
      "cell_type": "code",
      "metadata": {
        "id": "8kt3td57_jr1",
        "colab_type": "code",
        "colab": {}
      },
      "source": [
        "import numpy as np\n",
        " \n",
        "class KNN:\n",
        "    X_train = None\n",
        "    y_train = None\n",
        "    def __init__(self, K):\n",
        "        self.K = K\n",
        " \n",
        "    def fit(self,X_train,y_train):\n",
        "        self.X_train = X_train\n",
        "        self.y_train = y_train\n",
        " \n",
        "    def euclidean_distance(self, row1, row2):\n",
        "        return np.linalg.norm(row1-row2)\n",
        " \n",
        "    def predict(self, pred):\n",
        " \n",
        "        # Empty list\n",
        "        predictions = []\n",
        " \n",
        "        # Go through each row\n",
        "        for p in pred:\n",
        " \n",
        "            # Empty list\n",
        "            distances = []\n",
        " \n",
        "            # Every row in the training set\n",
        "            for i, v in enumerate(self.X_train):\n",
        " \n",
        "                # Get euclidean distance\n",
        "                distance = self.euclidean_distance(v, p)\n",
        " \n",
        "                # Append distance to list\n",
        "                distances.append([distance, i])\n",
        " \n",
        "            # Sort smallest to biggest\n",
        "            sorted_distances = sorted(distances)\n",
        " \n",
        "            # Slice getting K distances\n",
        "            k_distances = sorted_distances[:self.K]\n",
        " \n",
        "            # Predicted what it will be\n",
        "            predict = [self.y_train[i[1]] for i in k_distances]\n",
        " \n",
        "            # Tally the votes\n",
        "            result = max(set(predict), key = predict.count)\n",
        " \n",
        "            # Append result to the predictions list\n",
        "            predictions.append(result)\n",
        " \n",
        "        # return the prediction\n",
        "        return predictions"
      ],
      "execution_count": 7,
      "outputs": []
    },
    {
      "cell_type": "code",
      "metadata": {
        "id": "Emz56Hiq_rjw",
        "colab_type": "code",
        "colab": {
          "base_uri": "https://localhost:8080/",
          "height": 34
        },
        "outputId": "3f0b920c-32af-48fe-ec70-85b0c725cda8"
      },
      "source": [
        "model = KNN(K=5)\n",
        "model.fit(X_train, y_train)\n",
        "y_pred = model.predict(X_test)\n",
        "my_acc_score = accuracy_score(y_test, y_pred)\n",
        " \n",
        "print(f'My Class Accuracy: {my_acc_score}')"
      ],
      "execution_count": 8,
      "outputs": [
        {
          "output_type": "stream",
          "text": [
            "My Class Accuracy: 0.9714285714285714\n"
          ],
          "name": "stdout"
        }
      ]
    }
  ]
}